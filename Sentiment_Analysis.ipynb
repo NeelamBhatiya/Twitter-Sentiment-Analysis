{
  "nbformat": 4,
  "nbformat_minor": 0,
  "metadata": {
    "colab": {
      "name": "Sentiment Analysis.ipynb",
      "version": "0.3.2",
      "provenance": [],
      "collapsed_sections": [],
      "include_colab_link": true
    },
    "kernelspec": {
      "name": "python3",
      "display_name": "Python 3"
    }
  },
  "cells": [
    {
      "cell_type": "markdown",
      "metadata": {
        "id": "view-in-github",
        "colab_type": "text"
      },
      "source": [
        "<a href=\"https://colab.research.google.com/github/NeelamBhatiya/Twitter-Sentiment-Analysis/blob/master/Sentiment_Analysis.ipynb\" target=\"_parent\"><img src=\"https://colab.research.google.com/assets/colab-badge.svg\" alt=\"Open In Colab\"/></a>"
      ]
    },
    {
      "metadata": {
        "id": "2DqFZsnodQSz",
        "colab_type": "code",
        "outputId": "910b1b67-8116-4d13-d67f-38daf7d36fc8",
        "colab": {
          "base_uri": "https://localhost:8080/",
          "height": 717
        }
      },
      "cell_type": "code",
      "source": [
        "import sys\n",
        "import tweepy\n",
        "from textblob import TextBlob\n",
        "import matplotlib.pyplot as plt\n",
        "\n",
        "def percentage(part,whole):\n",
        "  return 100* float(part)/float(whole)\n",
        "\n",
        "consumerKey=\"t20Ezt0s921FkxyQtFIAxWrQi\"\n",
        "consumerSecret=\"RMk8y9CvTAeqZ96c3nFJBrVSjBbPzotOI2XPBhvKoCsSLoZCrs\"\n",
        "accessToken=\"728141389314203648-IgkPhWprATF2osbMeJgC9uWFsRPOJ6L\"\n",
        "accessTokenSecret=\"8H9T66ob2Dh7J7kX4qu5FV59LUsDwg6Sbpd72W2lL5Iz8\"\n",
        "\n",
        "auth = tweepy.OAuthHandler(consumer_key=consumerKey, consumer_secret=consumerSecret)\n",
        "auth.set_access_token(accessToken, accessTokenSecret)\n",
        "api = tweepy.API(auth)\n",
        "\n",
        "#\n",
        "searchTerm = input(\"Enter keyword to searchb about: \")\n",
        "noOfSearch = int(input(\"Enter how many tweets to analyze:\"))\n",
        "\n",
        "tweets = tweepy.Cursor(api.search, q=searchTerm, lang=\"English\").items(noOfSearch)\n",
        "\n",
        "\n",
        "positive = 0\n",
        "negative = 0\n",
        "neutral = 0\n",
        "polarity = 0\n",
        "coun=0\n",
        "\n",
        "for t in tweets:\n",
        "  print(t.text)\n",
        "  coun=coun+1\n",
        "  analysis = TextBlob(t.text)\n",
        "  polarity += analysis.sentiment.polarity\n",
        "\n",
        "  if (analysis.sentiment.polarity == 0):\n",
        "    neutral += 1\n",
        "\n",
        "  elif (analysis.sentiment.polarity < 0.00):\n",
        "    negative += 1\n",
        "\n",
        "  elif (analysis.sentiment.polarity > 0.00):\n",
        "    positive += 1\n",
        "positive = percentage(positive, noOfSearch)\n",
        "negative = percentage(negative, noOfSearch)\n",
        "neutral = percentage(neutral, noOfSearch)\n",
        "\n",
        "\n",
        "positive = format(positive, '.2f')\n",
        "negative = format(negative, '.2f')\n",
        "neutral = format(neutral, '.2f')\n",
        "print(coun)\n",
        "\n",
        "print(\"How people are reacting on \" + searchTerm + \"by analyzing\" + str(noOfSearch) + \"Tweets.\")\n",
        "\n",
        "if (polarity == 0):\n",
        "  print(\"Neutral\")\n",
        "elif (polarity < 0):\n",
        "  print(\"Negative\")\n",
        "elif (polarity > 0):\n",
        "  print(\"Positive\")\n",
        "\n",
        "labels = ['Positive[' + str(positive) + '%]', 'Neutral[' + str(neutral) + '%]',\n",
        "          'Negative[' + str(negative) + '%]']\n",
        "sizes = [positive, neutral, negative]\n",
        "colors = ['yellowgreen', 'gold', 'red']\n",
        "patches, texts = plt.pie(sizes, colors=colors, startangle=90)\n",
        "plt.legend('How people are reacting on ' + searchTerm + 'by analyzing' + str(noOfSearch) + 'Tweets.')\n",
        "plt.axis('equal')\n",
        "plt.tight_layout()\n",
        "plt.show()\n",
        "\n",
        "  # analysis=TextBlob(tweet.text)"
      ],
      "execution_count": 0,
      "outputs": [
        {
          "output_type": "stream",
          "text": [
            "Enter keyword to searchb about: modi\n",
            "Enter how many tweets to analyze:10000\n",
            "PM Modi dismisses economists’ claim of rise in unemployment due to demonetisation https://t.co/QobCnN26wO -Bkack mo… https://t.co/jTsLwdYc7F\n",
            "PM Modi dismisses economists’ claim of rise in unemployment due to demonetisation https://t.co/QobCnN26wO -Ordinary… https://t.co/Hr2Bi7OAuk\n",
            "PM Modi dismisses economists’ claim of rise in unemployment due to demonetisation https://t.co/QobCnN26wO -Demoniti… https://t.co/sqZx5LzOw0\n",
            "Modi lists Rs 2.5 crore worth assets, MA degree from Gujarat University in election affidavit… https://t.co/jM0juvvuSd\n",
            "Will deposit money from NYAY scheme in bank accounts opened by Modi: Rahul Gandhi https://t.co/aMtqct52tx -The BJP… https://t.co/4HoPs0Iz1E\n",
            "PM Modi's Varanasi Roadshow Today In Mega Prelude To Filing Papers  \n",
            "Read More - https://t.co/ueNnk1YD7v\n",
            "@PMOIndia… https://t.co/vryyf9rodU\n",
            "Lok Sabha elections 2019- ‘If PM Modi returns…’: Arvind Kejriwal jabs Rahul Gandhi for failed alliance talks… https://t.co/2fjRMhf1S8\n",
            "Narendra Modi’s 240 ‘non-official’ trips: Rs 1.4 crore is what BJP paid IAF in 5 years https://t.co/cZXTkUsAOd -Are… https://t.co/aqxXk7LGP1\n",
            "A Mockery Of Journalism: Twitter Slams Akshay -Modi Interview\n",
            "Read More - https://t.co/zK9Yyp9QH3\n",
            "@akshaykumar… https://t.co/CDunxaMwto\n",
            "No PM Narendra Modi biopic release before May 19: Election Commission tells Supreme Court https://t.co/rw85mgM5k1 -… https://t.co/auwPB4f1zP\n",
            "No PM Narendra Modi biopic release before May 19: Election Commission tells Supreme Court https://t.co/rw85mgM5k1… https://t.co/eKSAEKiCdV\n",
            "Petrol prices will make you cry as Trump cheats friend Modi...US bans India from importing Iran oil… https://t.co/P9CUQite1C\n",
            "Modi shocker... Vote for BJP to save yourself from Lanka-like attack...VIDEO https://t.co/cb5P0uevph -Vote only for… https://t.co/J6K38ZxETa\n",
            "सर्वविदित है। \n",
            "Modi in last 5 five years, made 55 foreign trips and during those trips he was accompanied by 2 indu… https://t.co/SBwjlVjWYU\n",
            "In Jamnagar, Hardik Patel greeted with Modi Modi slogans before he could start his speech https://t.co/ILxvDhBhuv\n",
            "15\n",
            "How people are reacting on modiby analyzing10000Tweets.\n",
            "Positive\n"
          ],
          "name": "stdout"
        },
        {
          "output_type": "display_data",
          "data": {
            "image/png": "[encoded data removed]",
            "text/plain": [
              "<Figure size 432x288 with 1 Axes>"
            ]
          },
          "metadata": {
            "tags": []
          }
        }
      ]
    },
    {
      "metadata": {
        "id": "c-jdHJ-4dQ4W",
        "colab_type": "code",
        "colab": {}
      },
      "cell_type": "code",
      "source": [
        ""
      ],
      "execution_count": 0,
      "outputs": []
    }
  ]
}