{
  "nbformat": 4,
  "nbformat_minor": 0,
  "metadata": {
    "colab": {
      "name": "Sentiment Analysis.ipynb",
      "version": "0.3.2",
      "provenance": [],
      "collapsed_sections": [],
      "include_colab_link": true
    },
    "kernelspec": {
      "name": "python3",
      "display_name": "Python 3"
    }
  },
  "cells": [
    {
      "cell_type": "markdown",
      "metadata": {
        "id": "view-in-github",
        "colab_type": "text"
      },
      "source": [
        "<a href=\"https://colab.research.google.com/github/NeelamBhatiya/Twitter-Sentiment-Analysis/blob/master/Sentiment_Analysis.ipynb\" target=\"_parent\"><img src=\"https://colab.research.google.com/assets/colab-badge.svg\" alt=\"Open In Colab\"/></a>"
      ]
    },
    {
      "metadata": {
        "id": "2DqFZsnodQSz",
        "colab_type": "code",
        "colab": {}
      },
      "cell_type": "code",
      "source": [
        "import sys\n",
        "import tweepy\n",
        "from textblob import TextBlob\n",
        "import matplotlib.pyplot as plt\n",
        "\n",
        "def percentage(part,whole):\n",
        "  return 100* float(part)/float(whole)\n",
        "\n",
        "consumerKey=\"t20Ezt0s921FkxyQtFIAxWrQi\"\n",
        "consumerSecret=\"RMk8y9CvTAeqZ96c3nFJBrVSjBbPzotOI2XPBhvKoCsSLoZCrs\"\n",
        "accessToken=\"728141389314203648-IgkPhWprATF2osbMeJgC9uWFsRPOJ6L\"\n",
        "accessTokenSecret=\"8H9T66ob2Dh7J7kX4qu5FV59LUsDwg6Sbpd72W2lL5Iz8\"\n",
        "\n",
        "auth = tweepy.OAuthHandler(consumer_key=consumerKey, consumer_secret=consumerSecret)\n",
        "auth.set_access_token(accessToken, accessTokenSecret)\n",
        "api = tweepy.API(auth)\n",
        "\n",
        "#\n",
        "searchTerm = input(\"Enter keyword to searchb about: \")\n",
        "noOfSearch = int(input(\"Enter how many tweets to analyze:\"))\n",
        "\n",
        "tweets = tweepy.Cursor(api.search, q=searchTerm, lang=\"English\").items(noOfSearch)\n",
        "\n",
        "\n",
        "positive = 0\n",
        "negative = 0\n",
        "neutral = 0\n",
        "polarity = 0\n",
        "coun=0\n",
        "\n",
        "for t in tweets:\n",
        "  print(t.text)\n",
        "  coun=coun+1\n",
        "  analysis = TextBlob(t.text)\n",
        "  polarity += analysis.sentiment.polarity\n",
        "\n",
        "  if (analysis.sentiment.polarity == 0):\n",
        "    neutral += 1\n",
        "\n",
        "  elif (analysis.sentiment.polarity < 0.00):\n",
        "    negative += 1\n",
        "\n",
        "  elif (analysis.sentiment.polarity > 0.00):\n",
        "    positive += 1\n",
        "positive = percentage(positive, noOfSearch)\n",
        "negative = percentage(negative, noOfSearch)\n",
        "neutral = percentage(neutral, noOfSearch)\n",
        "\n",
        "\n",
        "positive = format(positive, '.2f')\n",
        "negative = format(negative, '.2f')\n",
        "neutral = format(neutral, '.2f')\n",
        "print(coun)\n",
        "\n",
        "print(\"How people are reacting on \" + searchTerm + \"by analyzing\" + str(noOfSearch) + \"Tweets.\")\n",
        "\n",
        "if (polarity == 0):\n",
        "  print(\"Neutral\")\n",
        "elif (polarity < 0):\n",
        "  print(\"Negative\")\n",
        "elif (polarity > 0):\n",
        "  print(\"Positive\")\n",
        "\n",
        "labels = ['Positive[' + str(positive) + '%]', 'Neutral[' + str(neutral) + '%]',\n",
        "          'Negative[' + str(negative) + '%]']\n",
        "sizes = [positive, neutral, negative]\n",
        "colors = ['yellowgreen', 'gold', 'red']\n",
        "patches, texts = plt.pie(sizes, colors=colors, startangle=90)\n",
        "plt.legend('How people are reacting on ' + searchTerm + 'by analyzing' + str(noOfSearch) + 'Tweets.')\n",
        "plt.axis('equal')\n",
        "plt.tight_layout()\n",
        "plt.show()\n",
        "\n",
        "  # analysis=TextBlob(tweet.text)"
      ],
      "execution_count": 0,
      "outputs": []
    },
    {
      "metadata": {
        "id": "c-jdHJ-4dQ4W",
        "colab_type": "code",
        "colab": {}
      },
      "cell_type": "code",
      "source": [
        ""
      ],
      "execution_count": 0,
      "outputs": []
    }
  ]
}